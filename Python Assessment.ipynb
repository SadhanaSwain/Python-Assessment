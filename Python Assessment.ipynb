{
 "cells": [
  {
   "cell_type": "markdown",
   "id": "4c371369-0703-476a-9f86-49cdc49c4678",
   "metadata": {},
   "source": [
    " #Python Assessment: Monthly Bill Generator\n",
    " \n"
   ]
  },
  {
   "cell_type": "code",
   "execution_count": 7,
   "id": "f4c2d611-933e-410d-8da3-0cc437a7ea54",
   "metadata": {},
   "outputs": [],
   "source": [
    "from datetime import datetime, timedelta\n",
    "from collections import defaultdict\n",
    "from calendar import monthrange\n",
    "\n",
    "# Sample item_list provided in the question\n",
    "item_list = [\n",
    "    {\"idx\": 1, \"item_code\": \"Executive Desk (4*2)\", \"qty\": 10, \"rate\": \"1000\", \"amount\": \"10000\", \"start_date\": \"2023-11-01\", \"stop_date\": \"2024-10-17\"},\n",
    "    {\"idx\": 2, \"item_code\": \"Executive Desk (4*2)\", \"qty\": \"10\", \"rate\": \"1080\", \"amount\": \"10800\", \"start_date\": \"2024-10-18\", \"stop_date\": \"2025-10-31\"},\n",
    "    {\"idx\": 3, \"item_code\": \"Executive Desk (4*2)\", \"qty\": 15, \"rate\": \"1080\", \"amount\": \"16200\", \"start_date\": \"2024-11-01\", \"stop_date\": \"2025-10-31\"},\n",
    "    {\"item_code\": \"Executive Desk (4*2)\", \"qty\": 5, \"rate\": \"1000\", \"amount\": \"5000\", \"start_date\": \"2024-11-01\", \"stop_date\": \"2025-10-31\"},\n",
    "    {\"idx\": 5, \"item_code\": \"Manager Cabin\", \"qty\": 5, \"rate\": 5000, \"amount\": 25000, \"start_date\": \"2024-11-01\", \"stop_date\": \"2025-10-31\"},\n",
    "    {\"idx\": 6, \"item_code\": \"Manager Cabin\", \"qty\": 7, \"rate\": \"5000\", \"amount\": 35000, \"start_date\": \"2024-12-15\", \"stop_date\": \"2025-10-31\"},\n",
    "    {\"idx\": 7, \"item_code\": \"Manager Cabin\", \"qty\": 10, \"rate\": 4600, \"amount\": 46000},\n",
    "    {\"start_date\": \"2023-11-01\", \"stop_date\": \"2024-10-17\"},\n",
    "    {\"idx\": 8, \"item_code\": \"Parking (2S)\", \"qty\": 10, \"rate\": 1000, \"amount\": 10000, \"start_date\": \"2024-11-01\", \"stop_date\": \"2025-10-31\"},\n",
    "    {\"idx\": 9, \"item_code\": \"Parking (2S)\", \"qty\": 10, \"rate\": 0, \"amount\": 0, \"start_date\": \"2024-11-01\", \"stop_date\": \"2025-10-31\"},\n",
    "    {\"idx\": 10, \"item_code\": \"Executive Desk (4*2)\", \"qty\": \"8\", \"rate\": \"1100\", \"amount\": \"8800\", \"start_date\": \"2024-11-15\", \"stop_date\": \"2025-01-31\"},\n",
    "    {\"idx\": 11, \"item_code\": \"Manager Cabin\", \"qty\": \"3\", \"rate\": \"5200\", \"amount\": \"15600\", \"start_date\": \"2024-10-10\", \"stop_date\": \"2024-11-10\"},\n",
    "    {\"idx\": 12, \"item_code\": \"Conference Table\", \"qty\": 1, \"rate\": \"20000\", \"amount\": \"20000\", \"start_date\": \"2024-11-05\", \"stop_date\": \"2024-11-20\"},\n",
    "    {\"idx\": 13, \"item_code\": \"Parking (2S)\", \"qty\": 5, \"rate\": \"1000\", \"amount\": \"5000\", \"start_date\": \"2024-11-15\", \"stop_date\": \"2025-02-28\"},\n",
    "    {\"idx\": 14, \"item_code\": \"Reception Desk\", \"qty\": 2, \"rate\": \"7000\"},\n",
    "    {\"amount\": \"14000\", \"start_date\": \"2024-11-01\", \"stop_date\": \"2025-03-31\"},\n",
    "    {\"idx\": 15, \"item_code\": \"Reception Desk\", \"qty\": 1, \"rate\": \"7000\", \"amount\": \"7000\", \"start_date\": \"2024-11-10\", \"stop_date\": \"2024-11-25\"},\n",
    "    {\"idx\": 16, \"item_code\": \"Breakout Area\", \"qty\": 3, \"rate\": \"3000\", \"amount\": \"9000\", \"start_date\": \"2024-01-01\", \"stop_date\": \"2024-01-31\"}\n",
    "]\n",
    "\n",
    "def generate_monthly_bill(item_list: list, target_month: str) -> dict:\n",
    "    year, month = map(int, target_month.split(\"-\"))\n",
    "    month_start = datetime(year, month, 1)\n",
    "    month_end = datetime(year, month, monthrange(year, month)[1])\n",
    "    total_days_in_month = (month_end - month_start).days + 1\n",
    "\n",
    "    grouped = defaultdict(lambda: {\"qty\": 0, \"amount\": 0.0, \"billing_period\": \"\"})\n",
    "\n",
    "    for item in item_list:\n",
    "        if not all(k in item for k in (\"item_code\", \"qty\", \"rate\", \"start_date\", \"stop_date\")):\n",
    "            continue\n",
    "        try:\n",
    "            rate = float(item[\"rate\"])\n",
    "            qty = int(item[\"qty\"])\n",
    "            start_date = datetime.strptime(item[\"start_date\"], \"%Y-%m-%d\")\n",
    "            stop_date = datetime.strptime(item[\"stop_date\"], \"%Y-%m-%d\")\n",
    "        except Exception:\n",
    "            continue\n",
    "\n",
    "        # Get active date range intersection with target month\n",
    "        active_start = max(start_date, month_start)\n",
    "        active_end = min(stop_date, month_end)\n",
    "\n",
    "        if active_start > active_end:\n",
    "            continue  # Not active in target month\n",
    "\n",
    "        active_days = (active_end - active_start).days + 1\n",
    "        proportion = active_days / total_days_in_month\n",
    "        amount = round(rate * qty * proportion, 2)\n",
    "\n",
    "        key = (item[\"item_code\"], rate, active_start.strftime(\"%Y-%m-%d\") + \" to \" + active_end.strftime(\"%Y-%m-%d\"))\n",
    "        grouped[key][\"qty\"] += qty\n",
    "        grouped[key][\"amount\"] += amount\n",
    "        grouped[key][\"billing_period\"] = key[2]\n",
    "\n",
    "    line_items = []\n",
    "    total_revenue = 0.0\n",
    "\n",
    "    for (item_code, rate, billing_period), details in grouped.items():\n",
    "        amount = round(details[\"amount\"], 2)\n",
    "        total_revenue += amount\n",
    "        line_items.append({\n",
    "            \"item_code\": item_code,\n",
    "            \"rate\": rate,\n",
    "            \"qty\": details[\"qty\"],\n",
    "            \"amount\": amount,\n",
    "            \"billing_period\": billing_period\n",
    "        })\n",
    "\n",
    "    return {\"line_items\": line_items, \"total_revenue\": round(total_revenue, 2)}\n",
    "\n"
   ]
  },
  {
   "cell_type": "code",
   "execution_count": 8,
   "id": "90c68802-91d3-4c18-8ac8-8314ae5f4740",
   "metadata": {},
   "outputs": [
    {
     "name": "stdout",
     "output_type": "stream",
     "text": [
      "{'line_items': [{'item_code': 'Executive Desk (4*2)', 'rate': 1080.0, 'qty': 25, 'amount': 27000.0, 'billing_period': '2024-11-01 to 2024-11-30'}, {'item_code': 'Executive Desk (4*2)', 'rate': 1000.0, 'qty': 5, 'amount': 5000.0, 'billing_period': '2024-11-01 to 2024-11-30'}, {'item_code': 'Manager Cabin', 'rate': 5000.0, 'qty': 5, 'amount': 25000.0, 'billing_period': '2024-11-01 to 2024-11-30'}, {'item_code': 'Parking (2S)', 'rate': 1000.0, 'qty': 10, 'amount': 10000.0, 'billing_period': '2024-11-01 to 2024-11-30'}, {'item_code': 'Parking (2S)', 'rate': 0.0, 'qty': 10, 'amount': 0.0, 'billing_period': '2024-11-01 to 2024-11-30'}, {'item_code': 'Executive Desk (4*2)', 'rate': 1100.0, 'qty': 8, 'amount': 4693.33, 'billing_period': '2024-11-15 to 2024-11-30'}, {'item_code': 'Manager Cabin', 'rate': 5200.0, 'qty': 3, 'amount': 5200.0, 'billing_period': '2024-11-01 to 2024-11-10'}, {'item_code': 'Conference Table', 'rate': 20000.0, 'qty': 1, 'amount': 10666.67, 'billing_period': '2024-11-05 to 2024-11-20'}, {'item_code': 'Parking (2S)', 'rate': 1000.0, 'qty': 5, 'amount': 2666.67, 'billing_period': '2024-11-15 to 2024-11-30'}, {'item_code': 'Reception Desk', 'rate': 7000.0, 'qty': 1, 'amount': 3733.33, 'billing_period': '2024-11-10 to 2024-11-25'}], 'total_revenue': 93960.0}\n"
     ]
    }
   ],
   "source": [
    "\n",
    "result = generate_monthly_bill(item_list, \"2024-11\")\n",
    "print(result)"
   ]
  },
  {
   "cell_type": "code",
   "execution_count": null,
   "id": "6cddd021-6328-47dc-9c54-d3d50c9acb9e",
   "metadata": {},
   "outputs": [],
   "source": []
  }
 ],
 "metadata": {
  "kernelspec": {
   "display_name": "Python 3 (ipykernel)",
   "language": "python",
   "name": "python3"
  },
  "language_info": {
   "codemirror_mode": {
    "name": "ipython",
    "version": 3
   },
   "file_extension": ".py",
   "mimetype": "text/x-python",
   "name": "python",
   "nbconvert_exporter": "python",
   "pygments_lexer": "ipython3",
   "version": "3.12.7"
  }
 },
 "nbformat": 4,
 "nbformat_minor": 5
}
